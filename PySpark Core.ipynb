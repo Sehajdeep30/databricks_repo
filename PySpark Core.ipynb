{
 "cells": [
  {
   "cell_type": "code",
   "execution_count": 0,
   "metadata": {
    "application/vnd.databricks.v1+cell": {
     "cellMetadata": {
      "byteLimit": 2048000,
      "rowLimit": 10000
     },
     "inputWidgets": {},
     "nuid": "3955a733-8d18-4cf6-89db-1db9d66bf1a4",
     "showTitle": false,
     "tableResultSettingsMap": {},
     "title": ""
    }
   },
   "outputs": [],
   "source": [
    "my_list = [(1,\"hello\"),(2,\"hi\")]\n",
    "my_list2 = [[1,\"hello\"],[2,\"hi\"]]\n",
    "my_list3 = [{\"s\":1,\"v\":\"heya\"}]\n",
    "\n",
    "df1 = spark.createDataFrame(my_list,[\"id\",\"word\"])\n",
    "df2 = spark.createDataFrame(my_list2)\n",
    "df3 = spark.createDataFrame(my_list3)\n",
    "df1.printSchema()\n",
    "df2.printSchema()\n",
    "df3.printSchema()"
   ]
  },
  {
   "cell_type": "code",
   "execution_count": 0,
   "metadata": {
    "application/vnd.databricks.v1+cell": {
     "cellMetadata": {},
     "inputWidgets": {},
     "nuid": "7ffe7a8b-cb1a-429e-95bf-e85a2d7d9ff3",
     "showTitle": false,
     "tableResultSettingsMap": {},
     "title": ""
    }
   },
   "outputs": [],
   "source": []
  }
 ],
 "metadata": {
  "application/vnd.databricks.v1+notebook": {
   "computePreferences": null,
   "dashboards": [],
   "environmentMetadata": {
    "base_environment": "",
    "environment_version": "2"
   },
   "inputWidgetPreferences": null,
   "language": "python",
   "notebookMetadata": {
    "pythonIndentUnit": 4
   },
   "notebookName": "PySpark Core",
   "widgets": {}
  },
  "language_info": {
   "name": "python"
  }
 },
 "nbformat": 4,
 "nbformat_minor": 0
}
