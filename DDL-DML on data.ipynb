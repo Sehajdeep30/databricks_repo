{
 "cells": [
  {
   "cell_type": "markdown",
   "metadata": {
    "application/vnd.databricks.v1+cell": {
     "cellMetadata": {
      "byteLimit": 2048000,
      "rowLimit": 10000
     },
     "inputWidgets": {},
     "nuid": "3d093d5e-52d0-4856-af2e-c979db12ed22",
     "showTitle": false,
     "tableResultSettingsMap": {},
     "title": ""
    }
   },
   "source": [
    "# Setting Up Volume And Loading Data"
   ]
  },
  {
   "cell_type": "code",
   "execution_count": 0,
   "metadata": {
    "application/vnd.databricks.v1+cell": {
     "cellMetadata": {
      "byteLimit": 2048000,
      "rowLimit": 10000
     },
     "inputWidgets": {},
     "nuid": "0b89b7f5-8297-4869-9710-1eef364aa5d1",
     "showTitle": false,
     "tableResultSettingsMap": {},
     "title": ""
    }
   },
   "outputs": [],
   "source": [
    "# spark.sql(\"CREATE VOLUME IF NOT EXISTS workspace.default.my_vol\")\n",
    "from pyspark.sql.functions import col\n",
    "\n",
    "\n",
    "df = spark.read.format(\"csv\").option(\"inferScehama\",\"true\").option(\"header\",\"true\").load(\"/Volumes/workspace/default/my_vol\")\n",
    "df1 = spark.table(\"my_table\")\n",
    "\n",
    "table = df.createOrReplaceTempView(\"my_table\")\n",
    "# df.select(\"movie_title\",\"movie_averageRating\",\"movie_numerOfVotes\",\"production_date\",\"runtime_minutes\").write.format(\"delta\").saveAsTable(\"my_table\")\n",
    "df.select(\"movie_title\",\"production_date\",\"genres\").createOrReplaceTempView(\"v1\")\n",
    "df.select(\"movie_title\",\"director_name\",\"director_professions\").createOrReplaceTempView(\"v2\")\n",
    "v1 = spark.table(\"v1\")\n",
    "v2 = spark.table(\"v2\")\n"
   ]
  },
  {
   "cell_type": "markdown",
   "metadata": {
    "application/vnd.databricks.v1+cell": {
     "cellMetadata": {},
     "inputWidgets": {},
     "nuid": "d02129db-0fcd-4ee3-a8be-99e9ed939554",
     "showTitle": false,
     "tableResultSettingsMap": {},
     "title": ""
    }
   },
   "source": [
    "# DML command function setup"
   ]
  },
  {
   "cell_type": "code",
   "execution_count": 0,
   "metadata": {
    "application/vnd.databricks.v1+cell": {
     "cellMetadata": {
      "byteLimit": 2048000,
      "rowLimit": 10000
     },
     "inputWidgets": {},
     "nuid": "82ca76c3-c976-4fac-a7b5-af61200e39e8",
     "showTitle": false,
     "tableResultSettingsMap": {},
     "title": ""
    }
   },
   "outputs": [],
   "source": [
    "select_cols = lambda *args,table: f\"SELECT {', '.join(args)} FROM {table}\"\n"
   ]
  },
  {
   "cell_type": "markdown",
   "metadata": {
    "application/vnd.databricks.v1+cell": {
     "cellMetadata": {},
     "inputWidgets": {},
     "nuid": "3e4db681-1b88-4c8c-abfc-1880fde7459d",
     "showTitle": false,
     "tableResultSettingsMap": {},
     "title": ""
    }
   },
   "source": [
    "# Setting Transformation functions for DDL manipulations"
   ]
  },
  {
   "cell_type": "code",
   "execution_count": 0,
   "metadata": {
    "application/vnd.databricks.v1+cell": {
     "cellMetadata": {
      "byteLimit": 2048000,
      "rowLimit": 10000
     },
     "inputWidgets": {},
     "nuid": "4e374438-e0c0-4ec0-9503-d1ae9bbf2625",
     "showTitle": false,
     "tableResultSettingsMap": {},
     "title": ""
    }
   },
   "outputs": [],
   "source": [
    "add_cols = lambda table,*args: f\"ALTER TABLE {table} ADD COLUMNS ({', '.join(args)})\"\n",
    "del_cols = lambda table,*args: f\"ALTER TABLE {table} DROP COLUMNS ({','.join(args)})\"\n",
    "rename_col = lambda old_name,new_name,table: f\"ALTER TABLE {table} RENAME COLUMN {old_name} TO {new_name}\"\n",
    "modify_col = lambda col_name,col_metadata,table: f\"ALTER TABLE {table} MODIFY {col_name} {col_metadata}\""
   ]
  },
  {
   "cell_type": "markdown",
   "metadata": {
    "application/vnd.databricks.v1+cell": {
     "cellMetadata": {},
     "inputWidgets": {},
     "nuid": "60e24511-41d4-40f1-b5da-443ecc3ce028",
     "showTitle": false,
     "tableResultSettingsMap": {},
     "title": ""
    }
   },
   "source": [
    "## Setting up DDL transformations and doing actions"
   ]
  },
  {
   "cell_type": "code",
   "execution_count": 0,
   "metadata": {
    "application/vnd.databricks.v1+cell": {
     "cellMetadata": {
      "byteLimit": 2048000,
      "rowLimit": 10000
     },
     "inputWidgets": {},
     "nuid": "dd6f3529-b678-403b-aa1a-d5e21d395a3d",
     "showTitle": false,
     "tableResultSettingsMap": {},
     "title": ""
    }
   },
   "outputs": [],
   "source": [
    "\n",
    "# spark.sql(add_cols(\"workspace.default.my_table\",\"new_col1 int\",\"new_col2 string\"))\n",
    "# spark.sql(del_cols(\"workspace.default.my_table\",\"movie_averageRating\",\"movie_numerOfVotes\"))\n",
    "# spark.sql(rename_col(\"new_col1\",\"new_col3\",\"workspace.default.my_table\"))\n",
    "# spark.sql(modify_col(\"new_col3\",\"int\",\"workspace.default.my_table\"))\n",
    "# spark.sql(\"SELECT * FROM workspace.default.my_table\").printSchema()"
   ]
  },
  {
   "cell_type": "code",
   "execution_count": 0,
   "metadata": {
    "application/vnd.databricks.v1+cell": {
     "cellMetadata": {
      "byteLimit": 2048000,
      "rowLimit": 10000
     },
     "inputWidgets": {},
     "nuid": "48e6dbb0-d8f3-42c6-b4d9-144438010863",
     "showTitle": false,
     "tableResultSettingsMap": {},
     "title": ""
    }
   },
   "outputs": [],
   "source": [
    "# df1 = df1.drop(\"movie_averageRating\",\"movie_numerOfVotes\")\n",
    "df1 = df1.withColumnRenamed(\"new_col1\",\"new_col3\")\n",
    "df1 = df1.withColumn(\"new_col3\",col(\"new_col3\").cast(\"int\"))\n",
    "df1.write.format(\"delta\").saveAsTable(\"my_table\")\n",
    "df1.write \\\n",
    "  .format(\"delta\") \\\n",
    "  .mode(\"overwrite\") \\\n",
    "  .saveAsTable(\"my_table\")"
   ]
  },
  {
   "cell_type": "code",
   "execution_count": 0,
   "metadata": {
    "application/vnd.databricks.v1+cell": {
     "cellMetadata": {
      "byteLimit": 2048000,
      "rowLimit": 10000
     },
     "inputWidgets": {},
     "nuid": "9c8fa2d9-405f-4456-acd3-fce3306cfd35",
     "showTitle": false,
     "tableResultSettingsMap": {},
     "title": ""
    }
   },
   "outputs": [],
   "source": [
    "display(df1.select(\"*\"))"
   ]
  },
  {
   "cell_type": "code",
   "execution_count": 0,
   "metadata": {
    "application/vnd.databricks.v1+cell": {
     "cellMetadata": {
      "byteLimit": 2048000,
      "rowLimit": 10000
     },
     "inputWidgets": {},
     "nuid": "70f63a05-c4a7-448e-b123-a51967711258",
     "showTitle": false,
     "tableResultSettingsMap": {},
     "title": ""
    }
   },
   "outputs": [],
   "source": [
    "# 1. Inner Join on movie_title\n",
    "inner_join = v1.join(v2, on=\"movie_title\", how=\"inner\")\n",
    "print(\"Inner Join Result:\")\n",
    "inner_join.show()\n",
    "\n",
    "# 2. Left Join\n",
    "left_join = v1.join(v2, on=\"movie_title\", how=\"left\")\n",
    "print(\"Left Join Result:\")\n",
    "left_join.show()\n",
    "\n",
    "# 3. Right Join\n",
    "right_join = v1.join(v2, on=\"movie_title\", how=\"right\")\n",
    "print(\"Right Join Result:\")\n",
    "right_join.show()\n",
    "\n",
    "# 4. Full Outer Join\n",
    "full_outer_join = v1.join(v2, on=\"movie_title\", how=\"outer\")\n",
    "print(\"Full Outer Join Result:\")\n",
    "full_outer_join.show()"
   ]
  },
  {
   "cell_type": "code",
   "execution_count": 0,
   "metadata": {
    "application/vnd.databricks.v1+cell": {
     "cellMetadata": {},
     "inputWidgets": {},
     "nuid": "9d546d35-f2bc-4d4b-a224-de42215b7e55",
     "showTitle": false,
     "tableResultSettingsMap": {},
     "title": ""
    }
   },
   "outputs": [],
   "source": []
  }
 ],
 "metadata": {
  "application/vnd.databricks.v1+notebook": {
   "computePreferences": null,
   "dashboards": [],
   "environmentMetadata": {
    "base_environment": "",
    "environment_version": "2"
   },
   "inputWidgetPreferences": null,
   "language": "python",
   "notebookMetadata": {
    "pythonIndentUnit": 4
   },
   "notebookName": "DDL-DML on data",
   "widgets": {}
  },
  "language_info": {
   "name": "python"
  }
 },
 "nbformat": 4,
 "nbformat_minor": 0
}
