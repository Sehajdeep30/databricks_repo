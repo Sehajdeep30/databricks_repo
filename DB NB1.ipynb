{
 "cells": [
  {
   "cell_type": "code",
   "execution_count": 0,
   "metadata": {
    "application/vnd.databricks.v1+cell": {
     "cellMetadata": {
      "byteLimit": 2048000,
      "rowLimit": 10000
     },
     "inputWidgets": {},
     "nuid": "56808ed2-6761-472c-9caf-d5a570d571dd",
     "showTitle": false,
     "tableResultSettingsMap": {},
     "title": ""
    }
   },
   "outputs": [],
   "source": [
    "from pyspark.sql.functions import col, lit, count,try_divide\n",
    "\n",
    "\n",
    "# # # Step 1: Load raw data lazily\n",
    "# # raw_df = spark.read.option(\"header\", True).csv(\"dbfs:/mnt/raw/sales.csv\")\n",
    "\n",
    "# # # Step 2: Transformations (lazy)\n",
    "# # filtered_df = raw_df.filter(raw_df[\"amount\"] > 100)\n",
    "# # converted_df = filtered_df.withColumn(\"amount_usd\", filtered_df[\"amount\"].cast(\"double\") * 1.1)\n",
    "# # summary_df = converted_df.groupBy(\"region\").agg({\"amount_usd\": \"sum\"})\n",
    "\n",
    "# # # Step 3: Cache intermediate result (optional)\n",
    "# # summary_df.cache()\n",
    "\n",
    "# # # Step 4: Action - show result\n",
    "# # summary_df.show()\n",
    "\n",
    "# # # Step 5: Action - save to Delta Lake\n",
    "# # summary_df.write.format(\"delta\").mode(\"overwrite\").save(\"/mnt/curated/sales_summary\")\n",
    "\n",
    "# df = spark.read.csv('samples.nyctaxi.trips')\n",
    "\n",
    "# display(dbutils.fs.ls(\"/FileStore/tables\"))\n"
   ]
  },
  {
   "cell_type": "code",
   "execution_count": 0,
   "metadata": {
    "application/vnd.databricks.v1+cell": {
     "cellMetadata": {
      "byteLimit": 2048000,
      "implicitDf": true,
      "rowLimit": 10000
     },
     "inputWidgets": {},
     "nuid": "2f0a6229-f538-419c-9b9b-92261d49468d",
     "showTitle": false,
     "tableResultSettingsMap": {},
     "title": ""
    },
    "jupyter": {
     "outputs_hidden": true
    }
   },
   "outputs": [],
   "source": [
    "# # List catalogs (if UC enabled)\n",
    "# spark.sql(\"SHOW CATALOGS\").show()\n",
    "\n",
    "# # List databases/schemas in a catalog\n",
    "# spark.sql(\"SELECT * FROM \"samples.nyctaxi\" LIMIT 10\").show()\n",
    "df = spark.read.table(\"samples.nyctaxi.trips\")\n",
    "display(df)\n",
    "df.printSchema()\n"
   ]
  },
  {
   "cell_type": "code",
   "execution_count": 0,
   "metadata": {
    "application/vnd.databricks.v1+cell": {
     "cellMetadata": {
      "byteLimit": 2048000,
      "rowLimit": 10000
     },
     "inputWidgets": {},
     "nuid": "1a211994-7354-4a66-a4e8-76532303a83f",
     "showTitle": false,
     "tableResultSettingsMap": {},
     "title": ""
    },
    "jupyter": {
     "outputs_hidden": true
    }
   },
   "outputs": [],
   "source": [
    "df.select(\"*\").filter(col(\"trip_distance\") == 0).show()"
   ]
  },
  {
   "cell_type": "code",
   "execution_count": 0,
   "metadata": {
    "application/vnd.databricks.v1+cell": {
     "cellMetadata": {
      "byteLimit": 2048000,
      "rowLimit": 10000
     },
     "inputWidgets": {},
     "nuid": "1e6391da-996a-4e87-af95-fca00eef488b",
     "showTitle": false,
     "tableResultSettingsMap": {},
     "title": ""
    },
    "jupyter": {
     "outputs_hidden": true
    }
   },
   "outputs": [],
   "source": [
    "\n",
    "# df = df.cache()\n",
    "s = df.select(\n",
    "    col(\"tpep_pickup_datetime\").alias(\"new_column_name\"),\n",
    "    (col(\"trip_distance\") * 2).alias(\"doubled_value\"),\n",
    "    lit(\"constant_value\").alias(\"static_column\")\n",
    ").limit(5)\n",
    "\n",
    "f = df.filter(df[\"fare_amount\"]>15).limit(5)\n",
    "g = df.groupBy(\"pickup_zip\").agg(count(\"*\").alias(\"count\"))\n",
    "display(s)\n",
    "display(f)\n",
    "display(g)"
   ]
  },
  {
   "cell_type": "code",
   "execution_count": 0,
   "metadata": {
    "application/vnd.databricks.v1+cell": {
     "cellMetadata": {
      "byteLimit": 2048000,
      "rowLimit": 10000
     },
     "inputWidgets": {},
     "nuid": "7622d172-b654-4043-ab68-821f5acb2ff7",
     "showTitle": false,
     "tableResultSettingsMap": {},
     "title": ""
    },
    "jupyter": {
     "outputs_hidden": true
    }
   },
   "outputs": [],
   "source": [
    "transformed = (\n",
    "    df.filter(df[\"fare_amount\"]>15)\n",
    "      .withColumn(\"fare_per_passenger\", try_divide(col(\"fare_amount\"),col(\"trip_distance\")))\n",
    "      .select(\"*\")\n",
    ")\n",
    "\n",
    "transformed.explain(True)\n",
    "display(transformed)"
   ]
  },
  {
   "cell_type": "code",
   "execution_count": 0,
   "metadata": {
    "application/vnd.databricks.v1+cell": {
     "cellMetadata": {
      "byteLimit": 2048000,
      "rowLimit": 10000
     },
     "inputWidgets": {},
     "nuid": "f7d72a90-fc25-4ab2-ad7c-f09a28107238",
     "showTitle": false,
     "tableResultSettingsMap": {},
     "title": ""
    }
   },
   "outputs": [],
   "source": [
    "# dbutils.fs.ls(\"/Volumes\")"
   ]
  },
  {
   "cell_type": "code",
   "execution_count": 0,
   "metadata": {
    "application/vnd.databricks.v1+cell": {
     "cellMetadata": {},
     "inputWidgets": {},
     "nuid": "c8cf596f-a086-44bd-924f-745de1f57c84",
     "showTitle": false,
     "tableResultSettingsMap": {},
     "title": ""
    }
   },
   "outputs": [],
   "source": []
  },
  {
   "cell_type": "code",
   "execution_count": 0,
   "metadata": {
    "application/vnd.databricks.v1+cell": {
     "cellMetadata": {},
     "inputWidgets": {},
     "nuid": "3ffce49c-d105-499e-b490-9560d7385453",
     "showTitle": false,
     "tableResultSettingsMap": {},
     "title": ""
    }
   },
   "outputs": [],
   "source": []
  }
 ],
 "metadata": {
  "application/vnd.databricks.v1+notebook": {
   "computePreferences": null,
   "dashboards": [],
   "environmentMetadata": {
    "base_environment": "",
    "environment_version": "2"
   },
   "inputWidgetPreferences": null,
   "language": "python",
   "notebookMetadata": {
    "mostRecentlyExecutedCommandWithImplicitDF": {
     "commandId": -1,
     "dataframes": [
      "_sqldf"
     ]
    },
    "pythonIndentUnit": 4
   },
   "notebookName": "DB NB1",
   "widgets": {}
  },
  "language_info": {
   "name": "python"
  }
 },
 "nbformat": 4,
 "nbformat_minor": 0
}
