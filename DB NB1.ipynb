{
 "cells": [
  {
   "cell_type": "code",
   "execution_count": 0,
   "metadata": {
    "application/vnd.databricks.v1+cell": {
     "cellMetadata": {
      "byteLimit": 2048000,
      "rowLimit": 10000
     },
     "inputWidgets": {},
     "nuid": "56808ed2-6761-472c-9caf-d5a570d571dd",
     "showTitle": false,
     "tableResultSettingsMap": {},
     "title": ""
    }
   },
   "outputs": [],
   "source": [
    "# Step 1: Load raw data lazily\n",
    "raw_df = spark.read.option(\"header\", True).csv(\"dbfs:/mnt/raw/sales.csv\")\n",
    "\n",
    "# Step 2: Transformations (lazy)\n",
    "filtered_df = raw_df.filter(raw_df[\"amount\"] > 100)\n",
    "converted_df = filtered_df.withColumn(\"amount_usd\", filtered_df[\"amount\"].cast(\"double\") * 1.1)\n",
    "summary_df = converted_df.groupBy(\"region\").agg({\"amount_usd\": \"sum\"})\n",
    "\n",
    "# Step 3: Cache intermediate result (optional)\n",
    "summary_df.cache()\n",
    "\n",
    "# Step 4: Action - show result\n",
    "summary_df.show()\n",
    "\n",
    "# Step 5: Action - save to Delta Lake\n",
    "summary_df.write.format(\"delta\").mode(\"overwrite\").save(\"/mnt/curated/sales_summary\")\n"
   ]
  }
 ],
 "metadata": {
  "application/vnd.databricks.v1+notebook": {
   "computePreferences": null,
   "dashboards": [],
   "environmentMetadata": {
    "base_environment": "",
    "environment_version": "2"
   },
   "inputWidgetPreferences": null,
   "language": "python",
   "notebookMetadata": {
    "pythonIndentUnit": 4
   },
   "notebookName": "DB NB1",
   "widgets": {}
  },
  "language_info": {
   "name": "python"
  }
 },
 "nbformat": 4,
 "nbformat_minor": 0
}
